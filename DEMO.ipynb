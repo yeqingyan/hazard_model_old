{
 "cells": [
  {
   "cell_type": "code",
   "execution_count": 2,
   "metadata": {
    "collapsed": true
   },
   "outputs": [
    {
     "name": "stdout",
     "output_type": "stream",
     "text": [
      "Graph nodes: 10, edges: 6\n"
     ]
    }
   ],
   "source": [
    "import time\n",
    "import datetime\n",
    "import Hazard\n",
    "from Utils.NetworkUtils import *\n",
    "from Utils.Plot import *\n",
    "from DynamicNetwork import DynamicNetwork\n",
    "from HazardMLE import *\n",
    "\n",
    "# Used to generate dynamic network\n",
    "start_date = int(time.mktime(datetime.datetime.strptime(\"08/16/2016\", \"%m/%d/%Y\").timetuple()))\n",
    "file = \"network_data/TheGoodPlace_sample.graphml\"   # The good place network\n",
    "WEEK_IN_SECOND = 7 * 24 * 60 * 60                   # Week in second\n",
    "HAZARD_BETA = [0.1, 0.1, 0.1]\n",
    "\n",
    "g = get_graphml(file)\n",
    "g = sample(g, 10/len(g))      # Get a small sample of network (10 nodes)   \n",
    "graph_info(g)"
   ]
  },
  {
   "cell_type": "markdown",
   "metadata": {},
   "source": [
    "Choose 10 nodes, contain 6 edges."
   ]
  },
  {
   "cell_type": "code",
   "execution_count": 3,
   "metadata": {
    "collapsed": false
   },
   "outputs": [
    {
     "name": "stdout",
     "output_type": "stream",
     "text": [
      "Adoption Possibility 0.10000, got 0.54856, Not Adopted\nAdoption Possibility 0.10000, got 0.50914, Not Adopted\nAdoption Possibility 0.10000, got 0.44059, Not Adopted\nAdoption Possibility 0.10000, got 0.62114, Not Adopted\nAdoption Possibility 0.10000, got 0.93373, Not Adopted\nAdoption Possibility 0.10000, got 0.12592, Not Adopted\nAdoption Possibility 0.10000, got 0.70829, Not Adopted\nAdoption Possibility 0.10000, got 0.12115, Not Adopted\nAdoption Possibility 0.10000, got 0.98818, Not Adopted\nAdoption Possibility 0.10000, got 0.02407, Adopted\nAdoption Possibility 0.10000, got 0.16146, Not Adopted\nAdoption Possibility 0.10000, got 0.82785, Not Adopted\nAdoption Possibility 0.10000, got 0.61918, Not Adopted\nAdoption Possibility 0.10000, got 0.96228, Not Adopted\nAdoption Possibility 0.10000, got 0.99208, Not Adopted\nAdoption Possibility 0.10000, got 0.93292, Not Adopted\nAdoption Possibility 0.10000, got 0.99534, Not Adopted\nAdoption Possibility 0.10000, got 0.28994, Not Adopted\nAdoption Possibility 0.10000, got 0.91270, Not Adopted\nAdoption Possibility 0.10000, got 0.88222, Not Adopted\nAdoption Possibility 0.10000, got 0.26479, Not Adopted\nAdoption Possibility 0.10000, got 0.67080, Not Adopted\nAdoption Possibility 0.10000, got 0.62821, Not Adopted\nAdoption Possibility 0.10000, got 0.21270, Not Adopted\nAdoption Possibility 0.10000, got 0.43610, Not Adopted\nAdoption Possibility 0.10000, got 0.53492, Not Adopted\nAdoption Possibility 0.10000, got 0.39377, Not Adopted\nAdoption Possibility 0.10000, got 0.50542, Not Adopted\nAdoption Possibility 0.10000, got 0.64685, Not Adopted\nAdoption Possibility 0.10000, got 0.14660, Not Adopted\nAdoption Possibility 0.10000, got 0.24126, Not Adopted\nAdoption Possibility 0.10000, got 0.98443, Not Adopted\nAdoption Possibility 0.10000, got 0.06756, Adopted\nAdoption Possibility 0.10000, got 0.43960, Not Adopted\nAdoption Possibility 0.10000, got 0.20572, Not Adopted\nAdoption Possibility 0.10000, got 0.17462, Not Adopted\nAdoption Possibility 0.10000, got 0.67752, Not Adopted\nAdoption Possibility 0.10000, got 0.56709, Not Adopted\nAdoption Possibility 0.10000, got 0.25101, Not Adopted\nAdoption Possibility 0.10000, got 0.79379, Not Adopted\nAdoption Possibility 0.10000, got 0.58135, Not Adopted\nAdoption Possibility 0.10000, got 0.38108, Not Adopted\nAdoption Possibility 0.10000, got 0.15538, Not Adopted\nAdoption Possibility 0.10000, got 0.31343, Not Adopted\nAdoption Possibility 0.10000, got 0.19566, Not Adopted\nAdoption Possibility 0.10000, got 0.28812, Not Adopted\nAdoption Possibility 0.10000, got 0.86759, Not Adopted\nAdoption Possibility 0.10000, got 0.07701, Adopted\nAdoption Possibility 0.10000, got 0.03440, Adopted\nAdoption Possibility 0.10000, got 0.97919, Not Adopted\nAdoption Possibility 0.10000, got 0.89559, Not Adopted\nAdoption Possibility 0.10000, got 0.89701, Not Adopted\nAdoption Possibility 0.10000, got 0.82189, Not Adopted\nAdoption Possibility 0.10000, got 0.39605, Not Adopted\nAdoption Possibility 0.10000, got 0.37073, Not Adopted\nAdoption Possibility 0.22611, got 0.83374, Not Adopted\nAdoption Possibility 0.10000, got 0.79572, Not Adopted\nAdoption Possibility 0.21911, got 0.17981, Adopted\nAdoption Possibility 0.10000, got 0.85207, Not Adopted\nAdoption Possibility 0.10000, got 0.26517, Not Adopted\nAdoption Possibility 0.10000, got 0.96852, Not Adopted\nAdoption Possibility 0.25336, got 0.07721, Adopted\nAdoption Possibility 0.10000, got 0.91203, Not Adopted\nAdoption Possibility 0.10000, got 0.54021, Not Adopted\nAdoption Possibility 0.14522, got 0.18316, Not Adopted\nAdoption Possibility 0.10000, got 0.00221, Adopted\nAdoption Possibility 0.10000, got 0.93540, Not Adopted\nAdoption Possibility 0.10000, got 0.94440, Not Adopted\nAdoption Possibility 0.19046, got 0.22781, Not Adopted\nAdoption Possibility 0.10000, got 0.67685, Not Adopted\nAdoption Possibility 0.10000, got 0.67546, Not Adopted\nAdoption Possibility 0.15094, got 0.07032, Adopted\nAdoption Possibility 0.10000, got 0.73578, Not Adopted\nAdoption Possibility 0.10000, got 0.92084, Not Adopted\nAdoption Possibility 0.10000, got 0.22413, Not Adopted\nAdoption Possibility 0.10000, got 0.29708, Not Adopted\nAdoption Possibility 0.10000, got 0.74743, Not Adopted\nAdoption Possibility 0.10000, got 0.13658, Not Adopted\nAdoption Possibility 0.10000, got 0.69292, Not Adopted\nAdoption Possibility 0.10000, got 0.77406, Not Adopted\nAdoption Possibility 0.10000, got 0.24353, Not Adopted\nAdoption Possibility 0.10000, got 0.08137, Adopted\nAdoption Possibility 0.10000, got 0.02266, Adopted\nAdopted users every week: [1, 1, 1, 2, 2, 4, 5, 6, 7, 7, 8, 8, 8, 8, 9, 10], 16 steps.\n"
     ]
    }
   ],
   "source": [
    "g = DynamicNetwork(g)   \n",
    "# Hazard model simulation, using params [beta1, beta2, beta3] = [0.3, 0.3 ,0.3]\n",
    "model = Hazard.Hazard(g, start_date, WEEK_IN_SECOND, HAZARD_BETA)        \n",
    "ref_result, fake_data = model.hazard()\n",
    "print(\"Adopted users every week: {}, {} steps.\".format(ref_result, len(ref_result)))"
   ]
  },
  {
   "cell_type": "markdown",
   "metadata": {},
   "source": [
    "Adoption Possibility 0.10000, got 0.92597, Not Adopted\n",
    "Adoption Possibility 0.10000, got 0.03216, Adopted\n",
    "Adoption Possibility 0.10000, got 0.50541, Not Adopted\n",
    "Adoption Possibility 0.10000, got 0.35814, Not Adopted\n",
    "Adoption Possibility 0.10000, got 0.11866, Not Adopted\n",
    "Adoption Possibility 0.10000, got 0.32942, Not Adopted\n",
    "Adoption Possibility 0.10000, got 0.81001, Not Adopted\n",
    "Adoption Possibility 0.10000, got 0.33137, Not Adopted\n",
    "Adoption Possibility 0.10000, got 0.10694, Not Adopted\n",
    "Adoption Possibility 0.10000, got 0.16468, Not Adopted\n",
    "Adoption Possibility 0.10000, got 0.82182, Not Adopted\n",
    "Adoption Possibility 0.10000, got 0.15994, Not Adopted\n",
    "Adoption Possibility 0.10000, got 0.07059, Adopted\n",
    "Adoption Possibility 0.10000, got 0.98185, Not Adopted\n",
    "Adoption Possibility 0.10000, got 0.31795, Not Adopted\n",
    "Adoption Possibility 0.10000, got 0.58232, Not Adopted\n",
    "Adoption Possibility 0.10000, got 0.61264, Not Adopted\n",
    "Adoption Possibility 0.10000, got 0.67554, Not Adopted\n",
    "Adoption Possibility 0.10000, got 0.53482, Not Adopted\n",
    "Adoption Possibility 0.22698, got 0.19975, Adopted\n",
    "Adoption Possibility 0.10000, got 0.09957, Adopted\n",
    "Adoption Possibility 0.10000, got 0.08538, Adopted\n",
    "Adoption Possibility 0.10000, got 0.62262, Not Adopted\n",
    "Adoption Possibility 0.10000, got 0.87912, Not Adopted\n",
    "Adoption Possibility 0.10000, got 0.35363, Not Adopted\n",
    "Adoption Possibility 0.10000, got 0.87550, Not Adopted\n",
    "Adoption Possibility 0.10000, got 0.92511, Not Adopted\n",
    "Adoption Possibility 0.10000, got 0.04973, Adopted\n",
    "Adoption Possibility 0.10000, got 0.41916, Not Adopted\n",
    "Adoption Possibility 0.10000, got 0.82506, Not Adopted\n",
    "Adoption Possibility 0.10000, got 0.22832, Not Adopted\n",
    "Adoption Possibility 0.10000, got 0.60443, Not Adopted\n",
    "Adoption Possibility 0.10000, got 0.67641, Not Adopted\n",
    "Adoption Possibility 0.10000, got 0.53070, Not Adopted\n",
    "Adoption Possibility 0.10000, got 0.75400, Not Adopted\n",
    "Adoption Possibility 0.10000, got 0.07552, Adopted\n",
    "Adoption Possibility 0.10000, got 0.66673, Not Adopted\n",
    "Adoption Possibility 0.10000, got 0.68594, Not Adopted\n",
    "Adoption Possibility 0.10000, got 0.58834, Not Adopted\n",
    "Adoption Possibility 0.10000, got 0.96956, Not Adopted\n",
    "Adoption Possibility 0.10000, got 0.23182, Not Adopted\n",
    "Adoption Possibility 0.27160, got 0.88343, Not Adopted\n",
    "Adoption Possibility 0.10000, got 0.30798, Not Adopted\n",
    "Adoption Possibility 0.10000, got 0.91165, Not Adopted\n",
    "Adoption Possibility 0.18161, got 0.70517, Not Adopted\n",
    "Adoption Possibility 0.10000, got 0.94217, Not Adopted\n",
    "Adoption Possibility 0.10000, got 0.25040, Not Adopted\n",
    "Adoption Possibility 0.26304, got 0.98134, Not Adopted\n",
    "Adoption Possibility 0.10000, got 0.53514, Not Adopted\n",
    "Adoption Possibility 0.10000, got 0.53800, Not Adopted\n",
    "Adoption Possibility 0.14498, got 0.91067, Not Adopted\n",
    "Adoption Possibility 0.10000, got 0.03857, Adopted\n",
    "Adoption Possibility 0.10000, got 0.26498, Not Adopted\n",
    "Adoption Possibility 0.17635, got 0.87011, Not Adopted\n",
    "Adoption Possibility 0.10000, got 0.63626, Not Adopted\n",
    "Adoption Possibility 0.13834, got 0.51082, Not Adopted\n",
    "Adoption Possibility 0.10000, got 0.01778, Adopted\n",
    "Adoption Possibility 0.22863, got 0.79931, Not Adopted\n",
    "Adoption Possibility 0.26575, got 0.29369, Not Adopted\n",
    "Adoption Possibility 0.15961, got 0.01905, Adopted\n",
    "Adopted users every week: [1, 2, 5, 6, 7, 7, 7, 7, 7, 7, 8, 8, 9, 9, 10], 15 steps."
   ]
  },
  {
   "cell_type": "code",
   "execution_count": 4,
   "metadata": {},
   "outputs": [
    {
     "name": "stdout",
     "output_type": "stream",
     "text": [
      "        NODEID     SECONDS  CONSTANT  ADOPTED_NEIGHBORS  SENTIMENT  ADOPTION\n0   1184491350  1471330800         1                  0  -0.747110         0\n1   1184491350  1471935600         1                  1   0.142406         0\n2   1184491350  1472540400         1                  2  -0.528341         0\n3   1184491350  1473145200         1                  3  -0.101813         0\n4   1184491350  1473750000         1                  4  -0.015771         0\n5   1184491350  1474354800         1                  5   0.706360         0\n6   1184491350  1474959600         1                  6   0.573778         0\n7   1184491350  1475564400         1                  7   0.010195         0\n8   1184491350  1476169200         1                  8   0.232355         1\n9    124386779  1471330800         1                  0  -0.675931         0\n10   124386779  1471935600         1                  1  -0.103657         0\n11   124386779  1472540400         1                  2  -0.982007         0\n12   124386779  1473145200         1                  3  -0.697754         0\n13   124386779  1473750000         1                  4  -0.066745         0\n14   124386779  1474354800         1                  5  -0.683085         0\n15   124386779  1474959600         1                  6  -0.179176         0\n16   124386779  1475564400         1                  7  -0.198967         0\n17   124386779  1476169200         1                  8  -0.547768         0\n18   124386779  1476774000         1                  9  -0.095382         0\n19   124386779  1477378800         1                 10  -0.490600         1\n20   284909955  1471330800         1                  0   0.019115         0\n21   284909955  1471935600         1                  1  -0.820645         0\n22   284909955  1472540400         1                  2  -0.190633         0\n23   284909955  1473145200         1                  3   0.717682         0\n24   284909955  1473750000         1                  4  -0.790809         0\n25   284909955  1474354800         1                  5   0.327094         0\n26   284909955  1474959600         1                  6  -0.717944         0\n27   284909955  1475564400         1                  7  -0.600748         0\n28   284909955  1476169200         1                  8   0.844358         0\n29   284909955  1476774000         1                  9   0.264729         0\n30   284909955  1477378800         1                 10   0.310983         0\n31   284909955  1477983600         1                 11  -0.596132         0\n32   284909955  1478588400         1                 12   0.956977         0\n33   284909955  1479193200         1                 13  -0.376529         0\n34   284909955  1479798000         1                 14  -0.662736         1\n35    30228540  1471330800         1                  0  -0.007957         0\n36    30228540  1471935600         1                  1   0.996562         0\n37    30228540  1472540400         1                  2   0.936492         0\n38    30228540  1473145200         1                  3  -0.238183         0\n39    30228540  1473750000         1                  4  -0.303072         0\n40    30228540  1474354800         1                  5  -0.592450         1\n41    30797400  1471330800         1                  0   0.840946         0\n42    30797400  1471935600         1                  1  -0.307481         0\n43    30797400  1472540400         1                  2   0.780701         0\n44    30797400  1473145200         1                  3  -0.616597         0\n45    30797400  1473750000         1                  4  -0.245924         0\n46    30797400  1474354800         1                  5   0.604108         0\n47    30797400  1474959600         1                  6   0.191118         1\n48  3364565313  1471330800         1                  0  -0.305894         0\n49  3364565313  1471935600         1                  1  -0.149033         0\n50  3364565313  1472540400         1                  2  -0.688446         0\n51  3364565313  1473145200         1                  3   0.327042         0\n52  3364565313  1473750000         1                  4   0.885038         0\n53  3364565313  1474354800         1                  5  -0.172819         0\n54  3364565313  1474959600         1                  6  -0.766198         0\n55  3364565313  1475564400         1                  7   0.075284         0\n56  3364565313  1476169200         1                  8  -0.235424         0\n57  3364565313  1476774000         1                  9  -0.468087         0\n58  3364565313  1477378800         1                 10  -0.635848         0\n59  3364565313  1477983600         1                 11   0.466846         0\n60  3364565313  1478588400         1                 12   0.384026         0\n61  3364565313  1479193200         1                 13  -0.286954         0\n62  3364565313  1479798000         1                 14  -0.952129         0\n63  3364565313  1480402800         1                 15   0.299599         1\n64    34173901  1471330800         1                  0  -0.764124         1\n65    45995929  1471330800         1                  0  -0.205772         0\n66    45995929  1471935600         1                  1   0.657057         0\n67    45995929  1472540400         1                  2  -0.050226         0\n68    45995929  1473145200         1                  3   0.536357         0\n69    45995929  1473750000         1                  4  -0.205952         0\n70    45995929  1474354800         1                  5  -0.816260         0\n71    45995929  1474959600         1                  6   0.261093         0\n72    45995929  1475564400         1                  7   0.533609         1\n73    49587790  1471330800         1                  0  -0.106797         0\n74    49587790  1471935600         1                  1   0.363280         0\n75    49587790  1472540400         1                  2  -0.279734         0\n76    49587790  1473145200         1                  3   0.768688         0\n77    49587790  1473750000         1                  4   0.848815         0\n78    49587790  1474354800         1                  5  -0.323700         1\n79    61415761  1471330800         1                  0  -0.078581         0\n80    61415761  1471935600         1                  1   0.827352         0\n81    61415761  1472540400         1                  2  -0.141614         0\n82    61415761  1473145200         1                  3  -0.480143         1\n"
     ]
    }
   ],
   "source": [
    "def fake_train_data(fake_data):\n",
    "    from pandas import DataFrame, Series\n",
    "    train_data_exog = []\n",
    "    train_data_endog = []\n",
    "    \n",
    "    # For demo only begin\n",
    "    for k, i in fake_data.items():\n",
    "        train_data_exog.append([k[0], k[1]] + [1] + list(i[1:]) + [i[0]])\n",
    "        train_data_endog.append(i[0])\n",
    "    train_data_exog.sort(key=lambda i: (i[0], i[1]))\n",
    "    train_data_exog = DataFrame(\n",
    "        train_data_exog, \n",
    "        columns=[\"NODEID\", \"SECONDS\", \"CONSTANT\", \"ADOPTED_NEIGHBORS\", \"SENTIMENT\", \"ADOPTION\"])\n",
    "    print(train_data_exog.to_string())\n",
    "    # For demo only end\n",
    "    #\n",
    "    \n",
    "    train_data_exog = []\n",
    "    train_data_endog = []\n",
    "    for k, i in fake_data.items():\n",
    "        train_data_exog.append([1] + list(i[1:]))\n",
    "        train_data_endog.append(i[0])\n",
    "    train_data_exog = DataFrame(train_data_exog, columns=[\"CONSTANT\", \"ADOPTED_NEIGHBORS\", \"SENTIMENT\"])\n",
    "    train_data_endog = Series(train_data_endog, name=\"ADOPTION\")\n",
    "\n",
    "    return train_data_exog, train_data_endog\n",
    "\n",
    "# Get exog and endog for mle\n",
    "exog, endog = fake_train_data(fake_data)"
   ]
  },
  {
   "cell_type": "markdown",
   "metadata": {},
   "source": [
    "Got data to train MLE.\n",
    "        NODEID     SECONDS  CONSTANT  ADOPTED_NEIGHBORS  SENTIMENT  ADOPTION\n",
    "0   1467701994  1471330800         1                  0  -0.868006         0\n",
    "1   1467701994  1471935600         1                  1   0.670540         0\n",
    "2   1467701994  1472540400         1                  2   0.269776         1\n",
    "3     14983059  1471330800         1                  0   0.944534         0\n",
    "4     14983059  1471935600         1                  1   0.359099         0\n",
    "5     14983059  1472540400         1                  2   0.943974         0\n",
    "6     14983059  1473145200         1                  3  -0.412418         1\n",
    "7   2222550602  1471330800         1                  0  -0.191775         0\n",
    "8   2222550602  1471935600         1                  1   0.751179         1\n",
    "9     23249536  1471330800         1                  0   0.755886         0\n",
    "10    23249536  1471935600         1                  1  -0.317997         0\n",
    "11    23249536  1472540400         1                  2  -0.134214         0\n",
    "12    23249536  1473145200         1                  3   0.219756         0\n",
    "13    23249536  1473750000         1                  4  -0.379094         0\n",
    "14    23249536  1474354800         1                  5  -0.516655         0\n",
    "15    23249536  1474959600         1                  6   0.715973         0\n",
    "16    23249536  1475564400         1                  7  -0.183926         0\n",
    "17    23249536  1476169200         1                  8   0.630376         0\n",
    "18    23249536  1476774000         1                  9  -0.550182         0\n",
    "19    23249536  1477378800         1                 10  -0.236525         0\n",
    "20    23249536  1477983600         1                 11  -0.616647         0\n",
    "21    23249536  1478588400         1                 12   0.286287         0\n",
    "22    23249536  1479193200         1                 13   0.657475         0\n",
    "23    23249536  1479798000         1                 14  -0.403943         1\n",
    "24  2457432540  1471330800         1                  0  -0.700006         0\n",
    "25  2457432540  1471935600         1                  1  -0.066940         0\n",
    "26  2457432540  1472540400         1                  2  -0.978339         1\n",
    "27  2715782414  1471330800         1                  0  -0.851808         0\n",
    "28  2715782414  1471935600         1                  1   0.367569         0\n",
    "29  2715782414  1472540400         1                  2   0.645550         1\n",
    "30    38463630  1471330800         1                  0  -0.866894         0\n",
    "31    38463630  1471935600         1                  1  -0.604140         0\n",
    "32    38463630  1472540400         1                  2   0.046679         0\n",
    "33    38463630  1473145200         1                  3   0.596411         0\n",
    "34    38463630  1473750000         1                  4   0.747701         1\n",
    "35   439677347  1471330800         1                  0   0.628342         1\n",
    "36   537417193  1471330800         1                  0   0.791130         0\n",
    "37   537417193  1471935600         1                  1   0.065054         0\n",
    "38   537417193  1472540400         1                  2  -0.215020         0\n",
    "39   537417193  1473145200         1                  3   0.819489         0\n",
    "40   537417193  1473750000         1                  4  -0.635321         0\n",
    "41   537417193  1474354800         1                  5   0.964510         0\n",
    "42   537417193  1474959600         1                  6   0.048261         0\n",
    "43   537417193  1475564400         1                  7  -0.796117         0\n",
    "44   537417193  1476169200         1                  8   0.901420         0\n",
    "45   537417193  1476774000         1                  9   0.166264         0\n",
    "46   537417193  1477378800         1                 10  -0.403186         0\n",
    "47   537417193  1477983600         1                 11  -0.331340         0\n",
    "48   537417193  1478588400         1                 12   0.199875         1\n",
    "49   616080506  1471330800         1                  0  -0.190076         0\n",
    "50   616080506  1471935600         1                  1  -0.900545         0\n",
    "51   616080506  1472540400         1                  2  -0.851069         0\n",
    "52   616080506  1473145200         1                  3   0.433837         0\n",
    "53   616080506  1473750000         1                  4   0.693296         0\n",
    "54   616080506  1474354800         1                  5   0.727239         0\n",
    "55   616080506  1474959600         1                  6  -0.942758         0\n",
    "56   616080506  1475564400         1                  7  -0.108206         0\n",
    "57   616080506  1476169200         1                  8  -0.488052         0\n",
    "58   616080506  1476774000         1                  9  -0.326715         0\n",
    "59   616080506  1477378800         1                 10  -0.640373         1"
   ]
  },
  {
   "cell_type": "code",
   "execution_count": 5,
   "metadata": {
    "collapsed": false
   },
   "outputs": [
    {
     "name": "stdout",
     "output_type": "stream",
     "text": [
      "Beta values [  1.00000000e-05   1.00000000e-05   2.54961044e-02]\n"
     ]
    }
   ],
   "source": [
    "result = HazardModel(exog=exog, endog=endog).fit(method=\"lbfgs\", bounds=[(0.00001, .999), (0.00001, .999), (0.00001, .999)])\n",
    "print(\"Beta values {}\".format(result.params))"
   ]
  },
  {
   "cell_type": "markdown",
   "metadata": {},
   "source": [
    "MLE result:\n",
    "Beta values [  1.00000000e-05   1.00000000e-05   7.42596219e-02]"
   ]
  },
  {
   "cell_type": "code",
   "execution_count": 7,
   "metadata": {},
   "outputs": [
    {
     "name": "stdout",
     "output_type": "stream",
     "text": [
      "MLE loglikelihood\n[  1.00000000e-05   1.00000000e-05   2.54961044e-02], -57.5287507273502\nOriginal loglikelihood\n[0.1, 0.1, 0.1], -96.24581429294444\n"
     ]
    }
   ],
   "source": [
    "def print_loglikelihood(exogs, endogs, params):\n",
    "    exogs = np.asarray(exogs)\n",
    "    endogs = np.asarray(endogs)\n",
    "\n",
    "    log_likelihood = 0\n",
    "\n",
    "    for exog, endog in zip(exogs, endogs):\n",
    "        if endog == 1:\n",
    "            log_likelihood += stats.norm.logcdf(np.dot(exog, params)).sum()\n",
    "        elif endog == 0:\n",
    "            log_likelihood += stats.norm.logcdf(-1 * np.dot(exog, params)).sum()\n",
    "        else:\n",
    "            assert False, \"Shouldn't run into this line\"\n",
    "\n",
    "    print(\"{}, {}\".format(params, log_likelihood))\n",
    "    \n",
    "# params = [round(p, 3) for p in result.params] # Reset params to 3 digits after decimal\n",
    "print(\"MLE loglikelihood\")\n",
    "print_loglikelihood(exog, endog, result.params)\n",
    "print(\"Original loglikelihood\")\n",
    "print_loglikelihood(exog, endog, HAZARD_BETA)"
   ]
  },
  {
   "cell_type": "markdown",
   "metadata": {},
   "source": [
    "Compare loglikelihood:\n",
    "\n",
    "MLE loglikelihood\n",
    "[  1.00000000e-05   1.00000000e-05   2.54961044e-02], -57.5287507273502\n",
    "\n",
    "Original beta loglikelihood\n",
    "[0.3, 0.3, 0.3], -257.6248851705792"
   ]
  },
  {
   "cell_type": "code",
   "execution_count": null,
   "metadata": {},
   "outputs": [],
   "source": [
    ""
   ]
  }
 ],
 "metadata": {
  "kernelspec": {
   "display_name": "Python 2",
   "language": "python",
   "name": "python2"
  },
  "language_info": {
   "codemirror_mode": {
    "name": "ipython",
    "version": 2.0
   },
   "file_extension": ".py",
   "mimetype": "text/x-python",
   "name": "python",
   "nbconvert_exporter": "python",
   "pygments_lexer": "ipython2",
   "version": "2.7.6"
  }
 },
 "nbformat": 4,
 "nbformat_minor": 0
}