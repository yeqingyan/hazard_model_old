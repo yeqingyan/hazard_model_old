{
 "cells": [
  {
   "cell_type": "code",
   "execution_count": 9,
   "metadata": {
    "collapsed": true
   },
   "outputs": [
    {
     "name": "stdout",
     "output_type": "stream",
     "text": [
      "Graph nodes: 10, edges: 8\n"
     ]
    }
   ],
   "source": [
    "import time\n",
    "import datetime\n",
    "import Hazard\n",
    "from Utils.NetworkUtils import *\n",
    "from Utils.Plot import *\n",
    "from DynamicNetwork import DynamicNetwork\n",
    "from HazardMLE import *\n",
    "\n",
    "# Used to generate dynamic network\n",
    "start_date = int(time.mktime(datetime.datetime.strptime(\"08/16/2016\", \"%m/%d/%Y\").timetuple()))\n",
    "file = \"network_data/TheGoodPlace_sample.graphml\"   # The good place network\n",
    "WEEK_IN_SECOND = 7 * 24 * 60 * 60                   # Week in second\n",
    "HAZARD_BETA = [0.1, 0.3, 0.3]\n",
    "\n",
    "g = get_graphml(file)\n",
    "g = sample(g, 10/len(g))      # Get a small sample of network (10 nodes)   \n",
    "graph_info(g)"
   ]
  },
  {
   "cell_type": "code",
   "execution_count": 10,
   "metadata": {
    "collapsed": false
   },
   "outputs": [
    {
     "name": "stdout",
     "output_type": "stream",
     "text": [
      "Node 88796652 week 1471330800 Adoption Possibility 0.10000, got 0.36556, Not Adopted\nNode 1118132442 week 1471330800 Adoption Possibility 0.10000, got 0.90103, Not Adopted\nNode 1656968611 week 1471330800 Adoption Possibility 0.10000, got 0.36829, Not Adopted\nNode 731845486274023424 week 1471330800 Adoption Possibility 0.10000, got 0.66475, Not Adopted\nNode 64436697 week 1471330800 Adoption Possibility 0.10000, got 0.52847, Not Adopted\nNode 399375794 week 1471330800 Adoption Possibility 0.10000, got 0.45980, Not Adopted\nNode 570019372 week 1471330800 Adoption Possibility 0.10000, got 0.66833, Not Adopted\nNode 18827700 week 1471330800 Adoption Possibility 0.34858, got 0.58038, Not Adopted\nNode 117126460 week 1471330800 Adoption Possibility 0.10000, got 0.39932, Not Adopted\nNode 139129297 week 1471330800 Adoption Possibility 0.10000, got 0.33051, Not Adopted\nNode 88796652 week 1471935600 Adoption Possibility 0.10000, got 0.90903, Not Adopted\nNode 1118132442 week 1471935600 Adoption Possibility 0.10000, got 0.36832, Not Adopted\nNode 1656968611 week 1471935600 Adoption Possibility 0.10000, got 0.42811, Not Adopted\nNode 731845486274023424 week 1471935600 Adoption Possibility 0.10000, got 0.95295, Not Adopted\nNode 64436697 week 1471935600 Adoption Possibility 0.10000, got 0.41989, Not Adopted\nNode 399375794 week 1471935600 Adoption Possibility 0.10000, got 0.97635, Not Adopted\nNode 570019372 week 1471935600 Adoption Possibility 0.10000, got 0.11274, Not Adopted\nNode 18827700 Week 1471935600 Adoption Possibility 0.18750, got 0.01298, Adopted\nNode 117126460 week 1471935600 Adoption Possibility 0.10000, got 0.93273, Not Adopted\nNode 139129297 week 1471935600 Adoption Possibility 0.10000, got 0.30170, Not Adopted\nNode 88796652 Week 1472540400 Adoption Possibility 0.10000, got 0.00472, Adopted\nNode 1118132442 week 1472540400 Adoption Possibility 0.10000, got 0.20329, Not Adopted\nNode 1656968611 Week 1472540400 Adoption Possibility 0.10000, got 0.04113, Adopted\nNode 731845486274023424 week 1472540400 Adoption Possibility 0.10000, got 0.58384, Not Adopted\nNode 64436697 week 1472540400 Adoption Possibility 0.10000, got 0.43928, Not Adopted\nNode 399375794 week 1472540400 Adoption Possibility 0.10000, got 0.59848, Not Adopted\nNode 570019372 week 1472540400 Adoption Possibility 0.10000, got 0.65228, Not Adopted\nNode 117126460 week 1472540400 Adoption Possibility 0.10000, got 0.61538, Not Adopted\nNode 139129297 Week 1472540400 Adoption Possibility 0.56697, got 0.48869, Adopted\nNode 1118132442 week 1473145200 Adoption Possibility 0.10000, got 0.28437, Not Adopted\nNode 731845486274023424 Week 1473145200 Adoption Possibility 0.10000, got 0.03733, Adopted\nNode 64436697 Week 1473145200 Adoption Possibility 0.10000, got 0.02478, Adopted\nNode 399375794 week 1473145200 Adoption Possibility 0.10000, got 0.39975, Not Adopted\nNode 570019372 week 1473145200 Adoption Possibility 0.10000, got 0.96606, Not Adopted\nNode 117126460 week 1473145200 Adoption Possibility 0.10000, got 0.77407, Not Adopted\nNode 1118132442 week 1473750000 Adoption Possibility 0.10000, got 0.13491, Not Adopted\nNode 399375794 week 1473750000 Adoption Possibility 0.10000, got 0.48664, Not Adopted\nNode 570019372 Week 1473750000 Adoption Possibility 0.10000, got 0.04542, Adopted\nNode 117126460 Week 1473750000 Adoption Possibility 0.10000, got 0.04980, Adopted\nNode 1118132442 week 1474354800 Adoption Possibility 0.10000, got 0.44169, Not Adopted\nNode 399375794 week 1474354800 Adoption Possibility 0.10000, got 0.34370, Not Adopted\nNode 1118132442 week 1474959600 Adoption Possibility 0.10000, got 0.89683, Not Adopted\nNode 399375794 week 1474959600 Adoption Possibility 0.10000, got 0.48974, Not Adopted\nNode 1118132442 week 1475564400 Adoption Possibility 0.10000, got 0.56062, Not Adopted\nNode 399375794 week 1475564400 Adoption Possibility 0.10000, got 0.42251, Not Adopted\nNode 1118132442 week 1476169200 Adoption Possibility 0.10000, got 0.49247, Not Adopted\nNode 399375794 week 1476169200 Adoption Possibility 0.10000, got 0.81015, Not Adopted\nNode 1118132442 week 1476774000 Adoption Possibility 0.22777, got 0.63413, Not Adopted\nNode 399375794 Week 1476774000 Adoption Possibility 0.10000, got 0.02510, Adopted\nNode 1118132442 week 1477378800 Adoption Possibility 0.64595, got 0.90955, Not Adopted\nNode 1118132442 week 1477983600 Adoption Possibility 0.34051, got 0.68102, Not Adopted\nNode 1118132442 Week 1478588400 Adoption Possibility 0.58098, got 0.19903, Adopted\nAdopted users every week: [0, 1, 4, 6, 8, 8, 8, 8, 8, 9, 9, 9, 10], 13 steps.\n"
     ]
    }
   ],
   "source": [
    "g = DynamicNetwork(g)   \n",
    "# Hazard model simulation, using params [beta1, beta2, beta3] = [0.3, 0.3 ,0.3]\n",
    "model = Hazard.Hazard(g, start_date, WEEK_IN_SECOND, HAZARD_BETA)        \n",
    "ref_result, fake_data = model.hazard()\n",
    "print(\"Adopted users every week: {}, {} steps.\".format(ref_result, len(ref_result)))"
   ]
  },
  {
   "cell_type": "code",
   "execution_count": 11,
   "metadata": {},
   "outputs": [
    {
     "name": "stdout",
     "output_type": "stream",
     "text": [
      "                NODEID     SECONDS  CONSTANT  ADOPTED_NEIGHBORS  SENTIMENT  ADOPTION\n0           1118132442  1471330800         1                0.0   0.167184         0\n1           1118132442  1471935600         1                0.0  -0.957688         0\n2           1118132442  1472540400         1                0.0   0.611058         0\n3           1118132442  1473145200         1                0.0  -0.590297         0\n4           1118132442  1473750000         1                0.0   0.245960         0\n5           1118132442  1474354800         1                0.0  -0.847044         0\n6           1118132442  1474959600         1                0.0  -0.835381         0\n7           1118132442  1475564400         1                0.0  -0.131320         0\n8           1118132442  1476169200         1                0.0  -0.308397         0\n9           1118132442  1476774000         1                1.0  -0.574101         0\n10          1118132442  1477378800         1                1.0   0.819838         0\n11          1118132442  1477983600         1                1.0  -0.198299         0\n12          1118132442  1478588400         1                1.0   0.603276         1\n13           117126460  1471330800         1                0.0  -0.771172         0\n14           117126460  1471935600         1                0.0  -0.412068         0\n15           117126460  1472540400         1                0.0  -0.794343         0\n16           117126460  1473145200         1                0.0  -0.546368         0\n17           117126460  1473750000         1                0.0  -0.447357         1\n18           139129297  1471330800         1                0.0  -0.876828         0\n19           139129297  1471935600         1                0.0   0.017954         0\n20           139129297  1472540400         1                1.0   0.556576         1\n21          1656968611  1471330800         1                0.0   0.951947         0\n22          1656968611  1471935600         1                0.0   0.014964         0\n23          1656968611  1472540400         1                0.0  -0.531627         1\n24            18827700  1471330800         1                1.0  -0.171411         0\n25            18827700  1471935600         1                1.0  -0.708324         1\n26           399375794  1471330800         1                0.0   0.906850         0\n27           399375794  1471935600         1                0.0   0.894394         0\n28           399375794  1472540400         1                0.0   0.284949         0\n29           399375794  1473145200         1                0.0  -0.387023         0\n30           399375794  1473750000         1                0.0  -0.640813         0\n31           399375794  1474354800         1                0.0   0.386642         0\n32           399375794  1474959600         1                0.0   0.911950         0\n33           399375794  1475564400         1                0.0  -0.921181         0\n34           399375794  1476169200         1                0.0  -0.940347         0\n35           399375794  1476774000         1                0.0   0.435864         1\n36           570019372  1471330800         1                0.0   0.380822         0\n37           570019372  1471935600         1                0.0  -0.903034         0\n38           570019372  1472540400         1                0.0   0.862955         0\n39           570019372  1473145200         1                0.0   0.198958         0\n40           570019372  1473750000         1                0.0  -0.925332         1\n41            64436697  1471330800         1                0.0  -0.434333         0\n42            64436697  1471935600         1                0.0  -0.146027         0\n43            64436697  1472540400         1                0.0  -0.349767         0\n44            64436697  1473145200         1                0.0   0.017951         1\n45  731845486274023424  1471330800         1                0.0   0.484792         0\n46  731845486274023424  1471935600         1                0.0   0.275216         0\n47  731845486274023424  1472540400         1                0.0  -0.799082         0\n48  731845486274023424  1473145200         1                0.0  -0.587855         1\n49            88796652  1471330800         1                0.0   0.749618         0\n50            88796652  1471935600         1                0.0  -0.813600         0\n51            88796652  1472540400         1                0.0   0.165280         1\n"
     ]
    }
   ],
   "source": [
    "def fake_train_data(fake_data):\n",
    "    from pandas import DataFrame, Series\n",
    "    train_data_exog = []\n",
    "    train_data_endog = []\n",
    "    \n",
    "    # For demo only begin\n",
    "    for k, i in fake_data.items():\n",
    "        train_data_exog.append([k[0], k[1]] + [1] + list(i[1:]) + [i[0]])\n",
    "        train_data_endog.append(i[0])\n",
    "    train_data_exog.sort(key=lambda i: (i[0], i[1]))\n",
    "    train_data_exog = DataFrame(\n",
    "        train_data_exog, \n",
    "        columns=[\"NODEID\", \"SECONDS\", \"CONSTANT\", \"ADOPTED_NEIGHBORS\", \"SENTIMENT\", \"ADOPTION\"])\n",
    "    print(train_data_exog.to_string())\n",
    "    # For demo only end\n",
    "    #\n",
    "    \n",
    "    train_data_exog = []\n",
    "    train_data_endog = []\n",
    "    for k, i in fake_data.items():\n",
    "        train_data_exog.append([1] + list(i[1:]))\n",
    "        train_data_endog.append(i[0])\n",
    "    train_data_exog = DataFrame(train_data_exog, columns=[\"CONSTANT\", \"ADOPTED_NEIGHBORS\", \"SENTIMENT\"])\n",
    "    train_data_endog = Series(train_data_endog, name=\"ADOPTION\")\n",
    "\n",
    "    return train_data_exog, train_data_endog\n",
    "\n",
    "# Get exog and endog for mle\n",
    "exog, endog = fake_train_data(fake_data)"
   ]
  },
  {
   "cell_type": "code",
   "execution_count": 12,
   "metadata": {
    "collapsed": false
   },
   "outputs": [
    {
     "name": "stdout",
     "output_type": "stream",
     "text": [
      "Beta values [  1.00000000e-05   1.00000000e-05   2.36919891e-01]\n"
     ]
    }
   ],
   "source": [
    "result = HazardModel(exog=exog, endog=endog).fit(method=\"lbfgs\", bounds=[(0.00001, .999), (0.00001, .999), (0.00001, .999)])\n",
    "print(\"Beta values {}\".format(result.params))"
   ]
  },
  {
   "cell_type": "code",
   "execution_count": 13,
   "metadata": {},
   "outputs": [
    {
     "name": "stdout",
     "output_type": "stream",
     "text": [
      "MLE loglikelihood\n[  1.00000000e-05   1.00000000e-05   2.36919891e-01], -35.688953646637856\nOriginal loglikelihood\n[0.1, 0.3, 0.3], -38.90919348097263\n"
     ]
    }
   ],
   "source": [
    "def print_loglikelihood(exogs, endogs, params):\n",
    "    exogs = np.asarray(exogs)\n",
    "    endogs = np.asarray(endogs)\n",
    "\n",
    "    log_likelihood = 0\n",
    "\n",
    "    for exog, endog in zip(exogs, endogs):\n",
    "        if endog == 1:\n",
    "            log_likelihood += stats.norm.logcdf(np.dot(exog, params)).sum()\n",
    "        elif endog == 0:\n",
    "            log_likelihood += stats.norm.logcdf(-1 * np.dot(exog, params)).sum()\n",
    "        else:\n",
    "            assert False, \"Shouldn't run into this line\"\n",
    "\n",
    "    print(\"{}, {}\".format(params, log_likelihood))\n",
    "    \n",
    "# params = [round(p, 3) for p in result.params] # Reset params to 3 digits after decimal\n",
    "print(\"MLE loglikelihood\")\n",
    "print_loglikelihood(exog, endog, result.params)\n",
    "print(\"Original loglikelihood\")\n",
    "print_loglikelihood(exog, endog, HAZARD_BETA)"
   ]
  },
  {
   "cell_type": "code",
   "execution_count": 14,
   "metadata": {},
   "outputs": [],
   "source": [
    ""
   ]
  },
  {
   "cell_type": "code",
   "execution_count": null,
   "metadata": {},
   "outputs": [],
   "source": [
    ""
   ]
  }
 ],
 "metadata": {
  "kernelspec": {
   "display_name": "Python 2",
   "language": "python",
   "name": "python2"
  },
  "language_info": {
   "codemirror_mode": {
    "name": "ipython",
    "version": 2.0
   },
   "file_extension": ".py",
   "mimetype": "text/x-python",
   "name": "python",
   "nbconvert_exporter": "python",
   "pygments_lexer": "ipython2",
   "version": "2.7.6"
  }
 },
 "nbformat": 4,
 "nbformat_minor": 0
}