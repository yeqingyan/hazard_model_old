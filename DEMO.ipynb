{
 "cells": [
  {
   "cell_type": "code",
   "execution_count": 15,
   "metadata": {
    "collapsed": true
   },
   "outputs": [
    {
     "name": "stdout",
     "output_type": "stream",
     "text": [
      "Graph nodes: 2962, edges: 10595\nRemove 2271 self loops.\nGraph nodes: 2962, edges: 8324\nGraph nodes: 200, edges: 65\n"
     ]
    }
   ],
   "source": [
    "import time\n",
    "import datetime\n",
    "import Hazard\n",
    "from Utils.NetworkUtils import *\n",
    "from Utils.Plot import *\n",
    "from DynamicNetwork import DynamicNetwork\n",
    "from HazardMLE import *\n",
    "\n",
    "# Used to generate dynamic network\n",
    "start_date = int(time.mktime(datetime.datetime.strptime(\"08/16/2016\", \"%m/%d/%Y\").timetuple()))\n",
    "file = \"network_data/TheGoodPlace_sample.graphml\"   # The good place network\n",
    "WEEK_IN_SECOND = 7 * 24 * 60 * 60                   # Week in second\n",
    "HAZARD_BETA = [0.01, 0.3, 0.3]\n",
    "\n",
    "g = get_graphml(file)\n",
    "# g = sample(g, 200/len(g))      # Get a small sample of network (200 nodes)   \n",
    "graph_info(g)"
   ]
  },
  {
   "cell_type": "code",
   "execution_count": 16,
   "metadata": {
    "collapsed": false
   },
   "outputs": [
    {
     "name": "stdout",
     "output_type": "stream",
     "text": [
      "Adopted users every week: [99, 146, 177, 190, 194, 199, 200], 7 steps.\n"
     ]
    }
   ],
   "source": [
    "g = DynamicNetwork(g)   \n",
    "# Hazard model simulation, using params [beta1, beta2, beta3] = [0.01, 0.3 ,0.3]\n",
    "model = Hazard.Hazard(g, start_date, WEEK_IN_SECOND, HAZARD_BETA)        \n",
    "ref_result, fake_data = model.hazard()\n",
    "print(\"Adopted users every week: {}, {} steps.\".format(ref_result, len(ref_result)))"
   ]
  },
  {
   "cell_type": "code",
   "execution_count": 17,
   "metadata": {},
   "outputs": [
    {
     "name": "stdout",
     "output_type": "stream",
     "text": [
      "       NODEID     SECONDS  CONSTANT  ADOPTED_NEIGHBORS  SENTIMENT  ADOPTION\n0   100083621  1471330800         1                  0   0.228243         1\n1    10111462  1471330800         1                  0  -0.929719         0\n2    10111462  1471935600         1                  0   0.533090         1\n3  1035240312  1471330800         1                  0   0.058064         1\n4   106030436  1471330800         1                  0  -0.244303         1\n"
     ]
    }
   ],
   "source": [
    "def fake_train_data(fake_data):\n",
    "    from pandas import DataFrame, Series\n",
    "    train_data_exog = []\n",
    "    train_data_endog = []\n",
    "    \n",
    "    # For demo only begin\n",
    "    for k, i in fake_data.items():\n",
    "        train_data_exog.append([k[0], k[1]] + [1] + list(i[1:]) + [i[0]])\n",
    "        train_data_endog.append(i[0])\n",
    "    train_data_exog.sort(key=lambda i: (i[0], i[1]))\n",
    "    train_data_exog = DataFrame(\n",
    "        train_data_exog, \n",
    "        columns=[\"NODEID\", \"SECONDS\", \"CONSTANT\", \"ADOPTED_NEIGHBORS\", \"SENTIMENT\", \"ADOPTION\"])\n",
    "    print(train_data_exog.head())\n",
    "    # For demo only end\n",
    "    #\n",
    "    \n",
    "    train_data_exog = []\n",
    "    train_data_endog = []\n",
    "    for k, i in fake_data.items():\n",
    "        train_data_exog.append([1] + list(i[1:]))\n",
    "        train_data_endog.append(i[0])\n",
    "    train_data_exog = DataFrame(train_data_exog, columns=[\"CONSTANT\", \"ADOPTED_NEIGHBORS\", \"SENTIMENT\"])\n",
    "    train_data_endog = Series(train_data_endog, name=\"ADOPTION\")\n",
    "\n",
    "    return train_data_exog, train_data_endog\n",
    "\n",
    "# Get exog and endog for mle\n",
    "exog, endog = fake_train_data(fake_data)"
   ]
  },
  {
   "cell_type": "code",
   "execution_count": 18,
   "metadata": {
    "collapsed": false
   },
   "outputs": [
    {
     "name": "stdout",
     "output_type": "stream",
     "text": [
      "Optimization terminated successfully.\n         Current function value: 0.678476\n         Iterations: 101\n         Function evaluations: 183\n"
     ]
    },
    {
     "name": "stdout",
     "output_type": "stream",
     "text": [
      "Beta values [ 0.0152311   0.58677477  0.32613163]\n"
     ]
    }
   ],
   "source": [
    "result = HazardModel(exog=exog, endog=endog).fit()\n",
    "print(\"Beta values {}\".format(result.params))"
   ]
  },
  {
   "cell_type": "code",
   "execution_count": 19,
   "metadata": {},
   "outputs": [
    {
     "name": "stdout",
     "output_type": "stream",
     "text": [
      "MLE loglikelihood\n[ 0.0152311   0.58677477  0.32613163], -267.9978775040834\nOriginal loglikelihood\n[0.01, 0.3, 0.3], -268.33159978276586\n"
     ]
    }
   ],
   "source": [
    "def print_loglikelihood(exogs, endogs, params):\n",
    "    exogs = np.asarray(exogs)\n",
    "    endogs = np.asarray(endogs)\n",
    "\n",
    "    log_likelihood = 0\n",
    "\n",
    "    for exog, endog in zip(exogs, endogs):\n",
    "        if endog == 1:\n",
    "            log_likelihood += stats.norm.logcdf(np.dot(exog, params)).sum()\n",
    "        elif endog == 0:\n",
    "            log_likelihood += stats.norm.logcdf(-1 * np.dot(exog, params)).sum()\n",
    "        else:\n",
    "            assert False, \"Shouldn't run into this line\"\n",
    "\n",
    "    print(\"{}, {}\".format(params, log_likelihood))\n",
    "    \n",
    "# params = [round(p, 3) for p in result.params] # Reset params to 3 digits after decimal\n",
    "print(\"MLE loglikelihood\")\n",
    "print_loglikelihood(exog, endog, result.params)\n",
    "print(\"Original loglikelihood\")\n",
    "print_loglikelihood(exog, endog, HAZARD_BETA)"
   ]
  },
  {
   "cell_type": "code",
   "execution_count": 20,
   "metadata": {},
   "outputs": [
    {
     "data": {
      "image/png": "[encoded data removed]",
      "text/plain": [
       "<matplotlib.figure.Figure at 0x109e2a160>"
      ]
     },
     "metadata": {},
     "output_type": "display_data"
    }
   ],
   "source": [
    "sim_model = Hazard.Hazard(g, start_date, WEEK_IN_SECOND, result.params)\n",
    "sim_result, _ = sim_model.hazard()\n",
    "plot([ref_result, sim_result])"
   ]
  },
  {
   "cell_type": "code",
   "execution_count": null,
   "metadata": {},
   "outputs": [],
   "source": [
    ""
   ]
  }
 ],
 "metadata": {
  "kernelspec": {
   "display_name": "Python 2",
   "language": "python",
   "name": "python2"
  },
  "language_info": {
   "codemirror_mode": {
    "name": "ipython",
    "version": 2.0
   },
   "file_extension": ".py",
   "mimetype": "text/x-python",
   "name": "python",
   "nbconvert_exporter": "python",
   "pygments_lexer": "ipython2",
   "version": "2.7.6"
  }
 },
 "nbformat": 4,
 "nbformat_minor": 0
}